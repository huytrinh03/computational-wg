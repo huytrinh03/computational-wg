{
 "cells": [
  {
   "cell_type": "code",
   "execution_count": null,
   "id": "5027763c",
   "metadata": {
    "vscode": {
     "languageId": "plaintext"
    }
   },
   "outputs": [],
   "source": []
  },
  {
   "cell_type": "code",
   "execution_count": null,
   "id": "3b27d30a",
   "metadata": {
    "vscode": {
     "languageId": "plaintext"
    }
   },
   "outputs": [],
   "source": []
  },
  {
   "cell_type": "code",
   "execution_count": null,
   "id": "393871e3",
   "metadata": {
    "vscode": {
     "languageId": "plaintext"
    }
   },
   "outputs": [],
   "source": []
  },
  {
   "cell_type": "markdown",
   "id": "5bf195ed",
   "metadata": {},
   "source": []
  },
  {
   "cell_type": "markdown",
   "id": "c623e867",
   "metadata": {},
   "source": []
  },
  {
   "cell_type": "markdown",
   "id": "178c351c",
   "metadata": {},
   "source": []
  }
 ],
 "metadata": {
  "language_info": {
   "name": "python"
  }
 },
 "nbformat": 4,
 "nbformat_minor": 5
}
